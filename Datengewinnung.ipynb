{
 "cells": [
  {
   "cell_type": "markdown",
   "metadata": {},
   "source": [
    "# Notebook 1 - Datengewinnung\n",
    "von Annika Scheug und Oliver Schabe"
   ]
  },
  {
   "cell_type": "markdown",
   "metadata": {},
   "source": [
    "Da es Im Internet bereits eine Vielzahl an Bilderdatensets und Bilderdatenbanken mit darauf aufbauenden Lösungen gibt, haben wir uns dazu entschieden, unser eigenes Datenset für eine Bilderklassifikation zu erstellen.  \n",
    "Dazu nutzen wir Selenium, ein open source Tool zur Automatisierung von Browseroperationen.  \n",
    "Mit Hilfe von Selenium durchsuchen wir Google Bilder automatisiert nach bestimmten Suchbegriffen und speichern die gefunden Bildern lokal auf unserem Rechner ab.  \n",
    "  \n",
    "Auf Basis des so generierten Datensets soll dann ein Neuronales Netz zur Erkennung von Bildern trainiert werden. Als zu klassifizierende Objekte haben wir uns für verschiedene Vogelarten entschieden.  \n",
    "\n",
    "Die Interclass Varianz soll dabei nicht zu hoch sein, um eine angemessene Schwierigkeit sicherzustellen (da alles Vögel sind und in der Regel Schnabel, Flügel etc. haben). Um ein gutes Modell zu entwicklen, sollte die Interclass Varianz allrdings auch nicht zu niedrig sein, da sonst die richtige Klassifizierung sehr schwierig werden könnte. \n",
    "\n",
    "Auf Basis dieser Überlegung haben wir uns für folgende 9 Vogelarten entschieden, welche viele Merkmale wie Flügel und Schnäbel teilen, sich allerdings optisch stark genug voneinander unterscheiden um im Rahmen dieses Projektes ein gut funktionierendes Modell zu entwicklen:\n",
    "* eagle (Adler)  \n",
    "* tit (Meise)  \n",
    "* owl (Eule)  \n",
    "* tucan (Tukan)  \n",
    "* flamingo (Flamingo)    \n",
    "* ostrich (Vogelstrauß)  \n",
    "* cockatoo (Kakadu)  \n",
    "* chicken (Huhn) \n",
    "* penguin (Pinguin) \n",
    "\n",
    "Die Intraclass Varianz unterscheidet sich dabei bei den verschiedenen Klassen teilweise stark. Bei Adlern bspw. gibt es viel mehr Unterarten, die sich auch optisch voneinander Unterscheiden als bei Flamingos. Dies wird sich voraussichtlich in den Ergebnissen des Modells wiederspiegeln. Vermutlich werden Klassen mit höherer Intraclass Varianz schlechtere Ergebnisse erzielen.  \n",
    "  \n",
    "![AdlerVarianz](AdlerVarianz.PNG)"
   ]
  },
  {
   "cell_type": "markdown",
   "metadata": {},
   "source": [
    "## Setup"
   ]
  },
  {
   "cell_type": "markdown",
   "metadata": {},
   "source": [
    "Zuerst werden die benötigten packages und libraries installiert bzw importiert."
   ]
  },
  {
   "cell_type": "code",
   "execution_count": 1,
   "metadata": {},
   "outputs": [],
   "source": [
    "# Installieren von Selenium\n",
    "#pip install selenium"
   ]
  },
  {
   "cell_type": "code",
   "execution_count": 8,
   "metadata": {},
   "outputs": [],
   "source": [
    "#Importieren von Selenium Libraries\n",
    "from selenium import webdriver\n",
    "from selenium.webdriver.support.ui import WebDriverWait\n",
    "from selenium.webdriver.common.by import By\n",
    "from selenium.webdriver.support import expected_conditions as EC\n",
    "from selenium.webdriver.common.keys import Keys\n",
    "import time"
   ]
  },
  {
   "cell_type": "markdown",
   "metadata": {},
   "source": [
    "## Erzeugung des Datasets"
   ]
  },
  {
   "cell_type": "markdown",
   "metadata": {},
   "source": [
    "Hier wird zunächst eine Liste erstellt, welche alle Suchbegriffe enthält, zu denen Bilder gesucht werden sollen."
   ]
  },
  {
   "cell_type": "code",
   "execution_count": 9,
   "metadata": {},
   "outputs": [
    {
     "data": {
      "text/plain": [
       "['eagle',\n",
       " 'tit',\n",
       " 'owl',\n",
       " 'tucan',\n",
       " 'flamingo',\n",
       " 'ostrich',\n",
       " 'cockatoo',\n",
       " 'chicken',\n",
       " 'penguin']"
      ]
     },
     "execution_count": 9,
     "metadata": {},
     "output_type": "execute_result"
    }
   ],
   "source": [
    "# List erstellen von zu klassifizierenden Vögeln\n",
    "Labels = [\"eagle\",\"tit\",\"owl\",\"tucan\",\"flamingo\",\"ostrich\",\"cockatoo\",\"chicken\",\"penguin\"]\n",
    "Labels"
   ]
  },
  {
   "cell_type": "markdown",
   "metadata": {},
   "source": [
    "Der folgende Code durchsucht mit Hilfe von Selenium Google Bilder nach den definierten Suchbegriffen und speichert die gefundenen Bilder lokal ab. Die automatisierte Navigation durch den Chrome Browser erfolgt auf Basis des \"xpath\".  \n",
    "Der xpath gibt die genaue Platzierung eines Objekts (bspw. Google Suche Eingabefeld) im html Quellcode an. \n",
    "  \n",
    "Details zur Methode sind im Code direkt kommentiert."
   ]
  },
  {
   "cell_type": "code",
   "execution_count": 10,
   "metadata": {},
   "outputs": [],
   "source": [
    "# Definition einer Funktion zum Durchscrollen der Google Bilder Suchergebnisse\n",
    "def scroll_to_bottom():\n",
    "\n",
    "\tlast_height = driver.execute_script('\\\n",
    "\treturn document.body.scrollHeight')\n",
    "\n",
    "\twhile True:\n",
    "\t\tdriver.execute_script('\\\n",
    "\t\twindow.scrollTo(0,document.body.scrollHeight)')\n",
    "\n",
    "\t\t# kurz warten um Ergebnisse laden zu lassen\n",
    "\t\ttime.sleep(3)\n",
    "\n",
    "\t\tnew_height = driver.execute_script('\\\n",
    "\t\treturn document.body.scrollHeight')\n",
    "\n",
    "\t\t# klicken von \"weitere Ergebnisse anzeigen\"\n",
    "\t\ttry:\n",
    "\t\t\tdriver.find_element(\"xpath\", \"/html/body/div[2]/c-wiz/div[3]/div[1]/div/div/div/div[1]/div[2]/div[2]/input\").click()\n",
    "\n",
    "\t\t\t# kurz warten um Ergebnisse laden zu lassen\n",
    "\t\t\ttime.sleep(1.5)\n",
    "\n",
    "\t\texcept:\n",
    "\t\t\tpass\n",
    "\n",
    "\t\t# Prüfen ob das Ende der Seite erreicht wurde\n",
    "\t\tif new_height == last_height:\n",
    "\t\t\tbreak\n",
    "\n",
    "\t\tlast_height = new_height\n"
   ]
  },
  {
   "cell_type": "code",
   "execution_count": 12,
   "metadata": {
    "scrolled": true
   },
   "outputs": [
    {
     "name": "stderr",
     "output_type": "stream",
     "text": [
      "C:\\Users\\olive\\AppData\\Local\\Temp\\ipykernel_6516\\289411379.py:5: DeprecationWarning: executable_path has been deprecated, please pass in a Service object\n",
      "  driver = webdriver.Chrome(r'..\\ProjectBirdClassification\\chromedriver.exe')\n"
     ]
    },
    {
     "ename": "NoSuchWindowException",
     "evalue": "Message: no such window: target window already closed\nfrom unknown error: web view not found\n  (Session info: chrome=109.0.5414.75)\nStacktrace:\nBacktrace:\n\t(No symbol) [0x00AE6643]\n\t(No symbol) [0x00A7BE21]\n\t(No symbol) [0x0097DA9D]\n\t(No symbol) [0x0095EF6A]\n\t(No symbol) [0x009D3AAB]\n\t(No symbol) [0x009E61B6]\n\t(No symbol) [0x009CFB76]\n\t(No symbol) [0x009A49C1]\n\t(No symbol) [0x009A5E5D]\n\tGetHandleVerifier [0x00D5A142+2497106]\n\tGetHandleVerifier [0x00D885D3+2686691]\n\tGetHandleVerifier [0x00D8BB9C+2700460]\n\tGetHandleVerifier [0x00B93B10+635936]\n\t(No symbol) [0x00A84A1F]\n\t(No symbol) [0x00A8A418]\n\t(No symbol) [0x00A8A505]\n\t(No symbol) [0x00A9508B]\n\tBaseThreadInitThunk [0x76DD00F9+25]\n\tRtlGetAppContainerNamedObjectPath [0x77707BBE+286]\n\tRtlGetAppContainerNamedObjectPath [0x77707B8E+238]\n",
     "output_type": "error",
     "traceback": [
      "\u001b[1;31m---------------------------------------------------------------------------\u001b[0m",
      "\u001b[1;31mNoSuchWindowException\u001b[0m                     Traceback (most recent call last)",
      "Input \u001b[1;32mIn [12]\u001b[0m, in \u001b[0;36m<cell line: 2>\u001b[1;34m()\u001b[0m\n\u001b[0;32m     27\u001b[0m box\u001b[38;5;241m.\u001b[39msend_keys(Keys\u001b[38;5;241m.\u001b[39mENTER)\n\u001b[0;32m     29\u001b[0m \u001b[38;5;66;03m# Aufrufen der zuvor definierten Scroll Funktion, um mehr als nur die ersten Suchergebniss runterladen zu können\u001b[39;00m\n\u001b[1;32m---> 30\u001b[0m \u001b[43mscroll_to_bottom\u001b[49m\u001b[43m(\u001b[49m\u001b[43m)\u001b[49m\n\u001b[0;32m     33\u001b[0m \u001b[38;5;66;03m# Schleife um die ersten 600 gefunden Bilder ja Klasse zu speichern\u001b[39;00m\n\u001b[0;32m     34\u001b[0m \u001b[38;5;28;01mfor\u001b[39;00m i \u001b[38;5;129;01min\u001b[39;00m \u001b[38;5;28mrange\u001b[39m(\u001b[38;5;241m1\u001b[39m, \u001b[38;5;241m1000\u001b[39m):\n",
      "Input \u001b[1;32mIn [10]\u001b[0m, in \u001b[0;36mscroll_to_bottom\u001b[1;34m()\u001b[0m\n\u001b[0;32m     11\u001b[0m \u001b[38;5;66;03m# kurz warten um Ergebnisse laden zu lassen\u001b[39;00m\n\u001b[0;32m     12\u001b[0m time\u001b[38;5;241m.\u001b[39msleep(\u001b[38;5;241m3\u001b[39m)\n\u001b[1;32m---> 14\u001b[0m new_height \u001b[38;5;241m=\u001b[39m \u001b[43mdriver\u001b[49m\u001b[38;5;241;43m.\u001b[39;49m\u001b[43mexecute_script\u001b[49m\u001b[43m(\u001b[49m\u001b[38;5;124;43m'\u001b[39;49m\u001b[38;5;130;43;01m\\\u001b[39;49;00m\n\u001b[0;32m     15\u001b[0m \u001b[38;5;124;43mreturn document.body.scrollHeight\u001b[39;49m\u001b[38;5;124;43m'\u001b[39;49m\u001b[43m)\u001b[49m\n\u001b[0;32m     17\u001b[0m \u001b[38;5;66;03m# klicken von \"weitere Ergebnisse anzeigen\"\u001b[39;00m\n\u001b[0;32m     18\u001b[0m \u001b[38;5;28;01mtry\u001b[39;00m:\n",
      "File \u001b[1;32m~\\Anaconda\\lib\\site-packages\\selenium-4.5.0-py3.9.egg\\selenium\\webdriver\\remote\\webdriver.py:492\u001b[0m, in \u001b[0;36mWebDriver.execute_script\u001b[1;34m(self, script, *args)\u001b[0m\n\u001b[0;32m    489\u001b[0m converted_args \u001b[38;5;241m=\u001b[39m \u001b[38;5;28mlist\u001b[39m(args)\n\u001b[0;32m    490\u001b[0m command \u001b[38;5;241m=\u001b[39m Command\u001b[38;5;241m.\u001b[39mW3C_EXECUTE_SCRIPT\n\u001b[1;32m--> 492\u001b[0m \u001b[38;5;28;01mreturn\u001b[39;00m \u001b[38;5;28;43mself\u001b[39;49m\u001b[38;5;241;43m.\u001b[39;49m\u001b[43mexecute\u001b[49m\u001b[43m(\u001b[49m\u001b[43mcommand\u001b[49m\u001b[43m,\u001b[49m\u001b[43m \u001b[49m\u001b[43m{\u001b[49m\n\u001b[0;32m    493\u001b[0m \u001b[43m    \u001b[49m\u001b[38;5;124;43m'\u001b[39;49m\u001b[38;5;124;43mscript\u001b[39;49m\u001b[38;5;124;43m'\u001b[39;49m\u001b[43m:\u001b[49m\u001b[43m \u001b[49m\u001b[43mscript\u001b[49m\u001b[43m,\u001b[49m\n\u001b[0;32m    494\u001b[0m \u001b[43m    \u001b[49m\u001b[38;5;124;43m'\u001b[39;49m\u001b[38;5;124;43margs\u001b[39;49m\u001b[38;5;124;43m'\u001b[39;49m\u001b[43m:\u001b[49m\u001b[43m \u001b[49m\u001b[43mconverted_args\u001b[49m\u001b[43m}\u001b[49m\u001b[43m)\u001b[49m[\u001b[38;5;124m'\u001b[39m\u001b[38;5;124mvalue\u001b[39m\u001b[38;5;124m'\u001b[39m]\n",
      "File \u001b[1;32m~\\Anaconda\\lib\\site-packages\\selenium-4.5.0-py3.9.egg\\selenium\\webdriver\\remote\\webdriver.py:429\u001b[0m, in \u001b[0;36mWebDriver.execute\u001b[1;34m(self, driver_command, params)\u001b[0m\n\u001b[0;32m    427\u001b[0m response \u001b[38;5;241m=\u001b[39m \u001b[38;5;28mself\u001b[39m\u001b[38;5;241m.\u001b[39mcommand_executor\u001b[38;5;241m.\u001b[39mexecute(driver_command, params)\n\u001b[0;32m    428\u001b[0m \u001b[38;5;28;01mif\u001b[39;00m response:\n\u001b[1;32m--> 429\u001b[0m     \u001b[38;5;28;43mself\u001b[39;49m\u001b[38;5;241;43m.\u001b[39;49m\u001b[43merror_handler\u001b[49m\u001b[38;5;241;43m.\u001b[39;49m\u001b[43mcheck_response\u001b[49m\u001b[43m(\u001b[49m\u001b[43mresponse\u001b[49m\u001b[43m)\u001b[49m\n\u001b[0;32m    430\u001b[0m     response[\u001b[38;5;124m'\u001b[39m\u001b[38;5;124mvalue\u001b[39m\u001b[38;5;124m'\u001b[39m] \u001b[38;5;241m=\u001b[39m \u001b[38;5;28mself\u001b[39m\u001b[38;5;241m.\u001b[39m_unwrap_value(\n\u001b[0;32m    431\u001b[0m         response\u001b[38;5;241m.\u001b[39mget(\u001b[38;5;124m'\u001b[39m\u001b[38;5;124mvalue\u001b[39m\u001b[38;5;124m'\u001b[39m, \u001b[38;5;28;01mNone\u001b[39;00m))\n\u001b[0;32m    432\u001b[0m     \u001b[38;5;28;01mreturn\u001b[39;00m response\n",
      "File \u001b[1;32m~\\Anaconda\\lib\\site-packages\\selenium-4.5.0-py3.9.egg\\selenium\\webdriver\\remote\\errorhandler.py:243\u001b[0m, in \u001b[0;36mErrorHandler.check_response\u001b[1;34m(self, response)\u001b[0m\n\u001b[0;32m    241\u001b[0m         alert_text \u001b[38;5;241m=\u001b[39m value[\u001b[38;5;124m'\u001b[39m\u001b[38;5;124malert\u001b[39m\u001b[38;5;124m'\u001b[39m]\u001b[38;5;241m.\u001b[39mget(\u001b[38;5;124m'\u001b[39m\u001b[38;5;124mtext\u001b[39m\u001b[38;5;124m'\u001b[39m)\n\u001b[0;32m    242\u001b[0m     \u001b[38;5;28;01mraise\u001b[39;00m exception_class(message, screen, stacktrace, alert_text)  \u001b[38;5;66;03m# type: ignore[call-arg]  # mypy is not smart enough here\u001b[39;00m\n\u001b[1;32m--> 243\u001b[0m \u001b[38;5;28;01mraise\u001b[39;00m exception_class(message, screen, stacktrace)\n",
      "\u001b[1;31mNoSuchWindowException\u001b[0m: Message: no such window: target window already closed\nfrom unknown error: web view not found\n  (Session info: chrome=109.0.5414.75)\nStacktrace:\nBacktrace:\n\t(No symbol) [0x00AE6643]\n\t(No symbol) [0x00A7BE21]\n\t(No symbol) [0x0097DA9D]\n\t(No symbol) [0x0095EF6A]\n\t(No symbol) [0x009D3AAB]\n\t(No symbol) [0x009E61B6]\n\t(No symbol) [0x009CFB76]\n\t(No symbol) [0x009A49C1]\n\t(No symbol) [0x009A5E5D]\n\tGetHandleVerifier [0x00D5A142+2497106]\n\tGetHandleVerifier [0x00D885D3+2686691]\n\tGetHandleVerifier [0x00D8BB9C+2700460]\n\tGetHandleVerifier [0x00B93B10+635936]\n\t(No symbol) [0x00A84A1F]\n\t(No symbol) [0x00A8A418]\n\t(No symbol) [0x00A8A505]\n\t(No symbol) [0x00A9508B]\n\tBaseThreadInitThunk [0x76DD00F9+25]\n\tRtlGetAppContainerNamedObjectPath [0x77707BBE+286]\n\tRtlGetAppContainerNamedObjectPath [0x77707B8E+238]\n"
     ]
    }
   ],
   "source": [
    "# Schleife zum automatiserten Suchen und Downloaden von Google Bilder Suchergebnissen zu den definierten Klassen:\n",
    "for birds in Labels:\n",
    "\n",
    "\t# webdriver instance erstellen\n",
    "\tdriver = webdriver.Chrome(r'..\\ProjectBirdClassification\\chromedriver.exe')\n",
    "\tdriver.implicitly_wait(3)\n",
    "\t# Browser Fenster maximieren\n",
    "\tdriver.maximize_window()\n",
    "\n",
    "\n",
    "\t# Google Images öffnen\n",
    "\tdriver.get('https://images.google.com/')\n",
    "\n",
    "\n",
    "\t#Cookie Window akzeptieren\n",
    "\tdriver.find_element(\"xpath\", '/html/body/div[2]/div[2]/div[3]/span/div/div/div/div[3]/div[1]/button[2]/div').click()\n",
    "\n",
    "\n",
    "\t# Suchleiste auswählen\n",
    "\tbox = driver.find_element(\"xpath\", '/html/body/div[1]/div[3]/form/div[1]/div[1]/div[1]/div/div[2]/input')\n",
    "\n",
    "\t# Suchanfrage eingeben (Vogelarten). Um die Qualität der Suchergebnisse zu erhöhen,  \n",
    "    # wird außerdem zum Name des Vogels noch der string \"bird photo\" ergänzt\n",
    "\tbox.send_keys(birds + ' bird photo')\n",
    "\n",
    "\t# Suchanfrage abschicken\n",
    "\tbox.send_keys(Keys.ENTER)\n",
    "\n",
    "\t# Aufrufen der zuvor definierten Scroll Funktion, um mehr als nur die ersten Suchergebniss runterladen zu können\n",
    "\tscroll_to_bottom()\n",
    "\n",
    "\n",
    "\t# Schleife um die ersten 600 gefunden Bilder ja Klasse zu speichern\n",
    "\tfor i in range(1, 1000):\n",
    "\n",
    "\t\ttry:\n",
    "\t\t\ttry:\n",
    "\t\t\t\t# XPath der Bilder, dieser ändert sich nur an einer Stelle und zählt von 1 aufsteigend durch  \n",
    "                # (Erstes Suchergebnis hat die 1, zweites die 2 usw. an der entsprechenden Stelle im Pfad)\n",
    "\t\t\t\tprint(\"//*[@id='islrg']/div[1]/div[\" +\n",
    "\t\t\t\t\tstr(i) + \"]/a[1]/div[1]/img\")\n",
    "\t\t\t\timg = driver.find_element(\"xpath\",\n",
    "\t\t\t\t\t'//*[@id=\"islrg\"]/div[1]/div[' +\n",
    "\t\t\t\t\tstr(i) + ']/a[1]/div[1]/img')\n",
    "\n",
    "\t\t\texcept:\n",
    "\t\t\t\tprint(\"Element konnte nicht gefunden werden\")\n",
    "\t\t\t# Pfad, unter dem die Bilder lokal abgespeichert werden sollen\n",
    "\t\t\timg.screenshot(r'..\\ProjectBirdClassification\\Bilder\\\\' +\n",
    "\t\t\t\t\t\tbirds + ' (' + str(i) + ').png')\n",
    "\n",
    "\t\t\t# kurz warten um Error zu vermeiden\n",
    "\t\t\ttime.sleep(0.2)\n",
    "\t\texcept:\n",
    "\t\t\tprint(\"mistake\")\n",
    "\t\t\t# Wenn Bild nicht gefunden und gespeichert werden kann, gehen wir weiter zum nächsten Bild\n",
    "\t\t\tcontinue\n",
    "            \n",
    "\t# Schließen des Browsers\n",
    "\tdriver.close()\n"
   ]
  },
  {
   "cell_type": "code",
   "execution_count": null,
   "metadata": {},
   "outputs": [],
   "source": [
    "/html/body/div[2]/c-wiz/div[3]/div[1]/div/div/div/div[2]/div[1]/div[1]/span/div[1]/div[1]/div[1]/a[1]/div[1]/img"
   ]
  },
  {
   "cell_type": "markdown",
   "metadata": {},
   "source": [
    "Mit der hier verwendeten Methode können auch einfach für andere Klassifikationsaufgaben Bilder gewonnen werden um Modelle zur Erkennung von anderen Objekten zu trainieren. Es müssen lediglich die Suchbegriffe in der oben definierten Liste ausgetauscht werden.\n",
    "\n",
    "Nachteil der verwendeten Methode ist die teilweise durchmischte Qualität der Suchergebnisse. Immer wieder tauchen Bilder unter dem Suchbegriff auf, welche nicht das gesuchte Objekt abbilden oder in sehr abgeänderter/abstrakter Form. Diese müssen dann manuell entfernt werden, um eine hohe Qualität das Datensets sicherzsutellen.  \n",
    "\n",
    "Die hier gewonnen Bilder sollen nun in einem nächste Notebook zum Trainieren eines CNN verwendet werden."
   ]
  }
 ],
 "metadata": {
  "kernelspec": {
   "display_name": "Python 3 (ipykernel)",
   "language": "python",
   "name": "python3"
  },
  "language_info": {
   "codemirror_mode": {
    "name": "ipython",
    "version": 3
   },
   "file_extension": ".py",
   "mimetype": "text/x-python",
   "name": "python",
   "nbconvert_exporter": "python",
   "pygments_lexer": "ipython3",
   "version": "3.9.7"
  },
  "vscode": {
   "interpreter": {
    "hash": "da11497cb61aef6b5b968c780df0f202e9cb04d5fde60e9d3764268bd873bb28"
   }
  }
 },
 "nbformat": 4,
 "nbformat_minor": 2
}
