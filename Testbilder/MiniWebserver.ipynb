
<!-- saved from url=(0107)https://e-learning.hdm-stuttgart.de/moodle/pluginfile.php/422384/mod_resource/content/1/MiniWebserver.ipynb -->
<html><head><meta http-equiv="Content-Type" content="text/html; charset=UTF-8"></head><body>{
 "cells": [
  {
   "cell_type": "code",
   "execution_count": null,
   "metadata": {},
   "outputs": [],
   "source": [
    "dateipfad = 'c:\\\\webserver\\\\text.txt'\n",
    "f = open(dateipfad, 'r')\n",
    "for zeile in f:\n",
    "    print (zeile.rstrip())\n",
    "f.close()"
   ]
  },
  {
   "cell_type": "code",
   "execution_count": null,
   "metadata": {},
   "outputs": [],
   "source": [
    "dateipfad = 'c:\\\\webserver\\\\erzeugt.txt'\n",
    "f = open(dateipfad, 'w')\n",
    "for i in range (1,11):\n",
    "    f.write(\"zeile \" + str(i) + \"\\n\")\n",
    "f.close()"
   ]
  },
  {
   "cell_type": "code",
   "execution_count": null,
   "metadata": {},
   "outputs": [],
   "source": [
    "# Python Image Library PIL\n",
    "\n",
    "from PIL import Image\n",
    "\n",
    "dateipfad = 'c:\\\\webserver\\\\pil_red.png'\n",
    "img = Image.open(dateipfad)\n",
    "img.show()"
   ]
  },
  {
   "cell_type": "code",
   "execution_count": null,
   "metadata": {},
   "outputs": [],
   "source": [
    "# Python Image Library PIL\n",
    "\n",
    "from PIL import Image, ImageDraw\n",
    "\n",
    "img = Image.new('RGB', (100, 100), (0,255,255))\n",
    "draw = ImageDraw.Draw(img)\n",
    "draw.line((0, 0) + img.size, fill=(255,255,255))\n",
    "draw.line((0, img.size[1], img.size[0], 0), fill=(0,255,255))\n",
    "draw.ellipse ([0,0,50,50],outline=(10,10,10),fill=(200,43,0))\n",
    "img.show()\n",
    "img.save('c:\\\\webserver\\\\pil_red.png')"
   ]
  },
  {
   "cell_type": "markdown",
   "metadata": {},
   "source": [
    "Medien-Typen:\n",
    "\n",
    "http://www.iana.org/assignments/media-types/media-types.xhtml"
   ]
  },
  {
   "cell_type": "code",
   "execution_count": null,
   "metadata": {},
   "outputs": [],
   "source": [
    "# was wird denn angefragt?\n",
    "\n",
    "from http.server import HTTPServer, BaseHTTPRequestHandler, SimpleHTTPRequestHandler\n",
    "\n",
    "class MyHTTPRequestHandler(BaseHTTPRequestHandler):\n",
    "           \n",
    "    def do_GET(self):  \n",
    "        print(\"\\n----- Pfad -----&gt;\\n\")\n",
    "        print(self.path)\n",
    "        print(\"\\n----- Header -----&gt;\\n\")\n",
    "        print(self.headers)\n",
    "        print(\"&lt;----- Request End -----\\n\")\n",
    "\n",
    "httpd = HTTPServer(('localhost', 9997), MyHTTPRequestHandler)\n",
    "httpd.serve_forever()"
   ]
  },
  {
   "cell_type": "code",
   "execution_count": null,
   "metadata": {},
   "outputs": [],
   "source": [
    "# Rückgabe eines Texts \n",
    "\n",
    "from http.server import HTTPServer, BaseHTTPRequestHandler, SimpleHTTPRequestHandler\n",
    "\n",
    "class MyHTTPRequestHandler(BaseHTTPRequestHandler):\n",
    "           \n",
    "    def do_GET(self):  \n",
    "        text = \"<h1>Hallo Welt!</h1>\"\n",
    "        self.send_response(200)\n",
    "        self.send_header(\"Content-type\", \"text/html\")\n",
    "        self.send_header(\"Content-length\", len(bytes(text,\"utf-8\")))\n",
    "        self.end_headers()\n",
    "        self.wfile.write(bytes(text,\"utf-8\"))\n",
    "\n",
    "httpd = HTTPServer(('localhost', 9998), MyHTTPRequestHandler)\n",
    "httpd.serve_forever()"
   ]
  },
  {
   "cell_type": "code",
   "execution_count": null,
   "metadata": {},
   "outputs": [],
   "source": [
    "# Rückgabe eines Texts, abängig von der Anfrage\n",
    "\n",
    "from http.server import HTTPServer, BaseHTTPRequestHandler, SimpleHTTPRequestHandler\n",
    "\n",
    "class MyHTTPRequestHandler(BaseHTTPRequestHandler):\n",
    "           \n",
    "    def do_GET(self):  \n",
    "        text1 = \"<h1>Hallo Welt 1</h1>\"\n",
    "        text2 = \"<h1>Hallo Welt 2</h1>\"\n",
    "        text3 = \"<h1>default</h1>\"\n",
    "\n",
    "        self.send_response(200)\n",
    "        self.send_header(\"Content-type\", \"text/html\")\n",
    "        self.end_headers()\n",
    "        if (self.path==\"/1\"):\n",
    "            self.wfile.write(bytes(text1,\"utf-8\"))\n",
    "        elif (self.path==\"/2\"):\n",
    "            self.wfile.write(bytes(text2,\"utf-8\"))\n",
    "        else:\n",
    "            self.wfile.write(bytes(text3,\"utf-8\"))\n",
    "                  \n",
    "httpd = HTTPServer(('localhost', 9996), MyHTTPRequestHandler)\n",
    "httpd.serve_forever()"
   ]
  },
  {
   "cell_type": "code",
   "execution_count": null,
   "metadata": {},
   "outputs": [],
   "source": [
    "# Ausgabe einer Datei\n",
    "\n",
    "from http.server import HTTPServer, BaseHTTPRequestHandler, SimpleHTTPRequestHandler\n",
    "\n",
    "class MyHTTPRequestHandler(BaseHTTPRequestHandler):\n",
    "\n",
    "    def do_GET(self):\n",
    "        dateipfad = 'c:\\\\webserver\\\\erzeugt.txt'       \n",
    "        self.send_response(200)\n",
    "        self.send_header(\"Content-type\", \"text/html\")\n",
    "        \n",
    "        f = open(dateipfad, 'r')\n",
    "        self.wfile.write(bytes(f.read(),\"utf-8\"))\n",
    "        f.close()            \n",
    "        \n",
    "httpd = HTTPServer(('localhost', 9998), MyHTTPRequestHandler)\n",
    "httpd.serve_forever()"
   ]
  },
  {
   "cell_type": "code",
   "execution_count": null,
   "metadata": {},
   "outputs": [],
   "source": [
    "# Ausgabe eines Bildes\n",
    "\n",
    "from http.server import HTTPServer, BaseHTTPRequestHandler, SimpleHTTPRequestHandler\n",
    "import os\n",
    "\n",
    "class MyHTTPRequestHandler(BaseHTTPRequestHandler):\n",
    "\n",
    "    def do_GET(self):\n",
    "        print(\"\\n----- Pfad -----&gt;\\n\")\n",
    "        print(self.path)\n",
    "        print(\"\\n----- Header -----&gt;\\n\")\n",
    "        print(self.headers)\n",
    "        print(\"&lt;----- Request End -----\\n\")\n",
    "        \n",
    "        self.send_response(200)\n",
    "        path_to_image = 'c:\\\\webserver\\\\ball.jpg'\n",
    "        img = open(path_to_image, 'rb')\n",
    "        statinfo = os.stat(path_to_image)\n",
    "        img_size = statinfo.st_size\n",
    "        print(img_size)\n",
    "        \n",
    "        self.send_response(200)\n",
    "        self.send_header(\"Content-type\", \"image/jpg\")\n",
    "        self.send_header(\"Content-length\", img_size)\n",
    "        self.end_headers()\n",
    "        \n",
    "        f = open(path_to_image, 'rb')\n",
    "        self.wfile.write(f.read())\n",
    "        f.close()            \n",
    "        \n",
    "# httpd = HTTPServer(('localhost', 9999), SimpleHTTPRequestHandler)\n",
    "# httpd.serve_forever()\n",
    "\n",
    "httpd2 = HTTPServer(('localhost', 9998), MyHTTPRequestHandler)\n",
    "httpd2.serve_forever()"
   ]
  },
  {
   "cell_type": "code",
   "execution_count": null,
   "metadata": {},
   "outputs": [
    {
     "name": "stderr",
     "output_type": "stream",
     "text": [
      "127.0.0.1 - - [13/May/2022 12:04:03] \"GET / HTTP/1.1\" 200 -\n",
      "127.0.0.1 - - [13/May/2022 12:04:03] code 404, message File not found\n",
      "127.0.0.1 - - [13/May/2022 12:04:03] \"GET /favicon.ico HTTP/1.1\" 404 -\n",
      "127.0.0.1 - - [13/May/2022 12:05:28] \"GET /start.html HTTP/1.1\" 200 -\n"
     ]
    }
   ],
   "source": [
    "# Winziger Webserver unter Python\n",
    "\n",
    "import os\n",
    "from http.server import HTTPServer, SimpleHTTPRequestHandler\n",
    "       \n",
    "os.chdir('c:\\\\webserver')    \n",
    "httpd = HTTPServer(('localhost', 9999), SimpleHTTPRequestHandler)\n",
    "httpd.serve_forever()"
   ]
  },
  {
   "cell_type": "code",
   "execution_count": null,
   "metadata": {},
   "outputs": [],
   "source": [
    "# Winziger Webserver unter Python\n",
    "# Multi-Threaded\n",
    "\n",
    "from http.server import HTTPServer, SimpleHTTPRequestHandler\n",
    "from socketserver import ThreadingMixIn      \n",
    "import os\n",
    "import threading\n",
    "\n",
    "class ThreadedHTTPServer(ThreadingMixIn, HTTPServer):\n",
    "    \"\"\" Diese Klasse öffnet für jede Browserverbindung einen neuen Thread \"\"\"\n",
    "\n",
    "os.chdir('c:\\\\webserver')  \n",
    "httpd = ThreadedHTTPServer(('localhost', 9999), SimpleHTTPRequestHandler)\n",
    "httpd.serve_forever()\n"
   ]
  },
  {
   "cell_type": "code",
   "execution_count": null,
   "metadata": {},
   "outputs": [],
   "source": []
  }
 ],
 "metadata": {
  "kernelspec": {
   "display_name": "Python 3",
   "language": "python",
   "name": "python3"
  },
  "language_info": {
   "codemirror_mode": {
    "name": "ipython",
    "version": 3
   },
   "file_extension": ".py",
   "mimetype": "text/x-python",
   "name": "python",
   "nbconvert_exporter": "python",
   "pygments_lexer": "ipython3",
   "version": "3.7.9"
  }
 },
 "nbformat": 4,
 "nbformat_minor": 2
}
</body></html>